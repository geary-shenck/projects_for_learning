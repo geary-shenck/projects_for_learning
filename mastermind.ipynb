{
 "cells": [
  {
   "attachments": {},
   "cell_type": "markdown",
   "metadata": {},
   "source": [
    "# A low-level implementation of the classic game “Mastermind”. We need to write a program that generates a four-digit random code and the user needs to guess the code in 10 tries or less. If any digit out of the guessed four-digit code is wrong, the computer should print out “B”. If the digit is correct but at the wrong place, the computer should print “Y”. If both the digit and position is correct, the computer should print “R”.\n"
   ]
  },
  {
   "cell_type": "code",
   "execution_count": 118,
   "metadata": {},
   "outputs": [],
   "source": [
    "def target(seed_number=None):\n",
    "    '''\n",
    "    target returns a random number, optional to set seed\n",
    "    '''\n",
    "    import random\n",
    "\n",
    "    #sets seed if exists\n",
    "    random.seed(seed_number)\n",
    "\n",
    "    #returns a number up to 9999, and turns it into a 4 character string\n",
    "    returned_value = str(int(9999*random.random()))\n",
    "\n",
    "    for i in range(4 - len(returned_value)):\n",
    "        #print(i,returned_value)\n",
    "        returned_value = f'0{returned_value}'\n",
    "\n",
    "\n",
    "    return(returned_value)\n"
   ]
  },
  {
   "cell_type": "code",
   "execution_count": 147,
   "metadata": {},
   "outputs": [],
   "source": [
    "def gameplay(tries=10,pref_seed=None):\n",
    "    '''\n",
    "    meat and potatoes\n",
    "\n",
    "    did not finish, still working on \n",
    "    '''\n",
    "    #setting flag\n",
    "    game_on = True\n",
    "    target_string = target(pref_seed)\n",
    "\n",
    "    while game_on == True:\n",
    "\n",
    "        #get response from player\n",
    "        while True:\n",
    "            \n",
    "            response = \"____\"\n",
    "\n",
    "            good_response = False\n",
    "            while good_response == False:\n",
    "                user_string = str(int(input(\"Enter code:\")))\n",
    "                print(\"you entered\", user_string)\n",
    "\n",
    "                if len(user_string)\n",
    "        \n",
    "            print(\"part2\")\n",
    "            i = 0\n",
    "            for each in user_string:\n",
    "                print(\"i\",i,\"   | each\",each)\n",
    "                j = 0\n",
    "                for ele in target_string:\n",
    "                    print(\"j\",j,\"     | ele\",ele)\n",
    "                    #if any digit out of the guessed four-digit code is wrong, the computer should print out “B”. \n",
    "                    if each != ele and i != j:\n",
    "                        str(response.index(i)) == \"B\"\n",
    "                    # If the digit is correct but at the wrong place, the computer should print “Y”. \n",
    "                    if each == ele and i != j:\n",
    "                        str(response.index(i)) == \"Y\"\n",
    "                    # If both the digit and position is correct, the computer should print “R”\n",
    "                    if each == ele and i == j:\n",
    "                        str(response.index(i)) == \"R\"\n",
    "                    j += 1\n",
    "                i += 1\n",
    "            if response == \"RRRR\":\n",
    "                print(\"congrats, you won\")\n",
    "                game_on == False\n",
    "            else:\n",
    "                print(response)\n",
    "                            \n",
    "\n",
    "        \n"
   ]
  },
  {
   "cell_type": "code",
   "execution_count": 148,
   "metadata": {},
   "outputs": [
    {
     "name": "stdout",
     "output_type": "stream",
     "text": [
      "you entered 1111\n",
      "you entered 2222\n",
      "you entered 3333\n",
      "you entered 4444\n",
      "invalid response\n",
      "part2\n",
      "i 0    | each 4\n",
      "j 0      | ele 3\n",
      "j 1      | ele 9\n"
     ]
    },
    {
     "ename": "TypeError",
     "evalue": "must be str, not int",
     "output_type": "error",
     "traceback": [
      "\u001b[0;31m---------------------------------------------------------------------------\u001b[0m",
      "\u001b[0;31mTypeError\u001b[0m                                 Traceback (most recent call last)",
      "\u001b[1;32m/Users/geary.shenck/codeup-data-science/projects_for_learning/mastermind.ipynb Cell 4\u001b[0m in \u001b[0;36m<cell line: 1>\u001b[0;34m()\u001b[0m\n\u001b[0;32m----> <a href='vscode-notebook-cell:/Users/geary.shenck/codeup-data-science/projects_for_learning/mastermind.ipynb#W5sZmlsZQ%3D%3D?line=0'>1</a>\u001b[0m gameplay()\n",
      "\u001b[1;32m/Users/geary.shenck/codeup-data-science/projects_for_learning/mastermind.ipynb Cell 4\u001b[0m in \u001b[0;36mgameplay\u001b[0;34m(tries, pref_seed)\u001b[0m\n\u001b[1;32m     <a href='vscode-notebook-cell:/Users/geary.shenck/codeup-data-science/projects_for_learning/mastermind.ipynb#W5sZmlsZQ%3D%3D?line=34'>35</a>\u001b[0m \u001b[39m#if any digit out of the guessed four-digit code is wrong, the computer should print out “B”. \u001b[39;00m\n\u001b[1;32m     <a href='vscode-notebook-cell:/Users/geary.shenck/codeup-data-science/projects_for_learning/mastermind.ipynb#W5sZmlsZQ%3D%3D?line=35'>36</a>\u001b[0m \u001b[39mif\u001b[39;00m each \u001b[39m!=\u001b[39m ele \u001b[39mand\u001b[39;00m i \u001b[39m!=\u001b[39m j:\n\u001b[0;32m---> <a href='vscode-notebook-cell:/Users/geary.shenck/codeup-data-science/projects_for_learning/mastermind.ipynb#W5sZmlsZQ%3D%3D?line=36'>37</a>\u001b[0m     \u001b[39mstr\u001b[39m(response\u001b[39m.\u001b[39;49mindex(i)) \u001b[39m==\u001b[39m \u001b[39m\"\u001b[39m\u001b[39mB\u001b[39m\u001b[39m\"\u001b[39m\n\u001b[1;32m     <a href='vscode-notebook-cell:/Users/geary.shenck/codeup-data-science/projects_for_learning/mastermind.ipynb#W5sZmlsZQ%3D%3D?line=37'>38</a>\u001b[0m \u001b[39m# If the digit is correct but at the wrong place, the computer should print “Y”. \u001b[39;00m\n\u001b[1;32m     <a href='vscode-notebook-cell:/Users/geary.shenck/codeup-data-science/projects_for_learning/mastermind.ipynb#W5sZmlsZQ%3D%3D?line=38'>39</a>\u001b[0m \u001b[39mif\u001b[39;00m each \u001b[39m==\u001b[39m ele \u001b[39mand\u001b[39;00m i \u001b[39m!=\u001b[39m j:\n",
      "\u001b[0;31mTypeError\u001b[0m: must be str, not int"
     ]
    }
   ],
   "source": [
    "gameplay()"
   ]
  },
  {
   "cell_type": "code",
   "execution_count": null,
   "metadata": {},
   "outputs": [],
   "source": []
  }
 ],
 "metadata": {
  "kernelspec": {
   "display_name": "base",
   "language": "python",
   "name": "python3"
  },
  "language_info": {
   "codemirror_mode": {
    "name": "ipython",
    "version": 3
   },
   "file_extension": ".py",
   "mimetype": "text/x-python",
   "name": "python",
   "nbconvert_exporter": "python",
   "pygments_lexer": "ipython3",
   "version": "3.9.13"
  },
  "orig_nbformat": 4,
  "vscode": {
   "interpreter": {
    "hash": "3067ead486e059ec00ffe7555bdb889e6e264a24dc711bf108106cc7baee8d5d"
   }
  }
 },
 "nbformat": 4,
 "nbformat_minor": 2
}
