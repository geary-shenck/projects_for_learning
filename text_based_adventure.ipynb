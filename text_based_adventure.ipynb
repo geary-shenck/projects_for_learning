{
 "cells": [
  {
   "cell_type": "code",
   "execution_count": 13,
   "metadata": {},
   "outputs": [],
   "source": [
    "def main():\n",
    "    ''' \n",
    "    get the player name, print it out, and start the adventure\n",
    "    '''\n",
    "    player_name = input(\"What's your name? > \")\n",
    "    print(f\"Your name is {player_name}, let's start the adventure!\")\n",
    "    start_adventure()\n",
    "\n",
    "    print(\"\\nThe End\")\n",
    "    print(f\"Thanks for playing {player_name}\")\n",
    "    return\n"
   ]
  },
  {
   "cell_type": "code",
   "execution_count": 14,
   "metadata": {},
   "outputs": [],
   "source": [
    "def start_adventure():\n",
    "    ''' \n",
    "    functin will start adventure and give players two choices, chosen option will print out\n",
    "    '''\n",
    "    print(\"You enter a room, and you see a red door to your left and a blue door to your right.\")\n",
    "    door_picked = input(\"Do you pick the red door or the blue door? > \").lower()\n",
    "\n",
    "    #door_picked should be a string of response\n",
    "    if door_picked == \"red\":\n",
    "        red_door_room()\n",
    "    elif door_picked == \"blue\":\n",
    "        blue_door_room()\n",
    "    else:\n",
    "        print(\"Sorry, please pick either 'red' or 'blue'.\")\n",
    "        room_return()\n",
    "        \n"
   ]
  },
  {
   "cell_type": "code",
   "execution_count": 15,
   "metadata": {},
   "outputs": [],
   "source": [
    "def add_to_inventory(item):\n",
    "    personal_inventory.append(item)\n"
   ]
  },
  {
   "cell_type": "code",
   "execution_count": 16,
   "metadata": {},
   "outputs": [],
   "source": [
    "def remove_from_inventory(item):\n",
    "    personal_inventory.remove(item)\n"
   ]
  },
  {
   "cell_type": "code",
   "execution_count": 17,
   "metadata": {},
   "outputs": [],
   "source": [
    "def update_inventory():\n",
    "    personal_inventory_text = \"\"\n",
    "    personal_inventory_text= \", \".join(ele for ele in personal_inventory)\n",
    "    w = widgets.HTML(value = (personal_inventory_text),placeholder = \"p-h\",description = \"Items:\")\n",
    "    display(w)"
   ]
  },
  {
   "cell_type": "code",
   "execution_count": 18,
   "metadata": {},
   "outputs": [],
   "source": [
    "def room_return():\n",
    "    ''' \n",
    "    function for returning to the room\n",
    "    '''\n",
    "    print(\"You return to the main room, do you select the blue door or the red door?\")\n",
    "    door_picked = input(\"Do you pick the red door or the blue door? > \").lower()\n",
    "\n",
    "    #door_picked should be a string of response\n",
    "    if door_picked == \"red\":\n",
    "        red_door_room()\n",
    "    elif door_picked == \"blue\":\n",
    "        if \"Shiny Sword\" in personal_inventory:\n",
    "            guard()\n",
    "        blue_door_room()\n",
    "    else:\n",
    "        print(\"Sorry, please pick either 'red' or 'blue'.\")\n",
    "        room_return()"
   ]
  },
  {
   "cell_type": "code",
   "execution_count": 19,
   "metadata": {},
   "outputs": [],
   "source": [
    "def blue_door_room():\n",
    "    ''' \n",
    "    blue door, nothin happens here currently\n",
    "    '''\n",
    "    treasure_chest = [\"Diamonds\", \"Gold\", \"Silver\", \"Shiny Sword\"]\n",
    "    print(\"You see a room with a woodden treasure chest on the left, and a sleeping guard on the right in front of the door.\")\n",
    "\n",
    "    action = input(\"What do you do? [left | treasure | right | guard] > \").lower()\n",
    "\n",
    "    if action in [\"treasure\", \"chest\", \"left\"]:\n",
    "        print (\"Oooh, treasure!\")\n",
    "        print (\"Open it? (1)\")\n",
    "        print (\"Leave it alone? (2)\")\n",
    "        choice = input(\"1 or 2 > \")\n",
    "\n",
    "        if choice == \"1\":\n",
    "            print(\"Lets see\")\n",
    "            print(\"Chest creaks open, the guard is still asleep\")\n",
    "            print(\"Found something...\")\n",
    "            \n",
    "            for treasure in treasure_chest:\n",
    "                print(f\"\\t{treasure}, in treasure chest\")\n",
    "            \n",
    "            print(\"What do you want to do?\")\n",
    "\n",
    "            num_items_in_chest = len(treasure_chest)\n",
    "            print(f\"Take all {num_items_in_chest} treasures? (1)\")\n",
    "            print(\"Leave it? (2)\")\n",
    "\n",
    "            treasure_choice = input(\"1 or 2 >\")\n",
    "            if treasure_choice == \"1\":\n",
    "\n",
    "                temp_treasure_list = treasure_chest[:]\n",
    "                treasure_contents = \", \".join(treasure_chest)\n",
    "                \n",
    "                print(f\"\\tYou receive {treasure_contents}.\\n\")\n",
    "\n",
    "                for treasure in temp_treasure_list:\n",
    "                    treasure_chest.remove(treasure)\n",
    "                    add_to_inventory(treasure)\n",
    "                update_inventory()\n",
    "\n",
    "                print(\"\\twhoohoo, bounty! and a new sword\")\n",
    "\n",
    "                #print(*personal_inventory, sep =\"\\n in inventory \")\n",
    "                #[print(\"\\t\", ele, \"in inventory\") for ele in personal_inventory]\n",
    "\n",
    "                remove_from_inventory(\"crappy sword\")\n",
    "                print(\"\\tYou take the shiny sword, you replace it with your old one\")\n",
    "                update_inventory()\n",
    "                treasure_chest.append(\"crappy sword\")\n",
    "                \n",
    "                print(f\"You close the lid of the chest containing {treasure_chest} for the next adventurer\")\n",
    "                print(\"Now onward\")\n",
    "\n",
    "            elif treasure_choice == \"2\":\n",
    "                print(\"hopefully it will still be here later\")\n",
    "            else:\n",
    "                print(\"I'm not sure what to do, i guess i'll move on\")\n",
    "\n",
    "        elif choice == \"2\":\n",
    "            print(\"Who needs that treasure anyways\")\n",
    "    elif action in [\"guard\", \"right\"]:\n",
    "        print(\"time to take on the guard\")\n",
    "        guard()\n",
    "    else:\n",
    "        print(\"I don't understand the input, I guess you want to fight the guard?\")\n",
    "        guard()\n",
    "\n",
    "    room_return()\n"
   ]
  },
  {
   "cell_type": "code",
   "execution_count": 20,
   "metadata": {},
   "outputs": [],
   "source": [
    "def red_door_room():\n",
    "    ''' \n",
    "    red room contains dragon\n",
    "    player dies if they do anything other than 'flee' \n",
    "    '''\n",
    "    print( \"There you se a gread red Dragon.\", \"\\n\" ,\n",
    "            \"It stares at you through on narrowed eye.\", \"\\n\" ,\n",
    "            \"Do you 'flee' for your life or stay?\")\n",
    "    next_move = input(\"> \").lower()\n",
    "    if \"flee\" in next_move:\n",
    "        room_return()\n",
    "    else:\n",
    "        you_died(\"It eats you. You die\")\n",
    "        return\n"
   ]
  },
  {
   "cell_type": "code",
   "execution_count": 21,
   "metadata": {},
   "outputs": [],
   "source": [
    "def you_died(why):\n",
    "    ''' \n",
    "    in: passing string showing why playered died\n",
    "    prints why the player died\n",
    "    programme exists without error\n",
    "    '''\n",
    "    print(f\"{why}. Good job!\")\n",
    "\n",
    "    return"
   ]
  },
  {
   "cell_type": "code",
   "execution_count": 22,
   "metadata": {},
   "outputs": [],
   "source": [
    "def guard():\n",
    "    ''' \n",
    "    encountering the guard the player chooses:\n",
    "    attack: player dies\n",
    "    check: see what the guard is doing, return to options\n",
    "    sneak: sneak past the guard\n",
    "    '''\n",
    "    actions_dict = {\n",
    "                    \"check\" : \"You see the guard is still sleeping, you need toget to the door on the right of him. What are you waiting for?\",\n",
    "                    \"sneak\" : \"You approach the guard, he's still sleeping. Reaching for the door, you open it slowly and slip out\",\n",
    "                    \"attack\" : \"You swiftly run towards the sleeping guard and knock himn out with hilt of your crappy sword. Unfortunately it wasn't hard enough\"\n",
    "                    }\n",
    "    \n",
    "    while True:\n",
    "        action = input(\"What do you do? [attack | check | sneak] >\").lower()\n",
    "        if action in actions_dict.keys():\n",
    "            print(actions_dict[action])\n",
    "            if action == \"sneak\":\n",
    "                print(\"You just slipped thorugh the door before the guard realised it.\")\n",
    "                print(\"You are now outside. Yay i guess\\n\")\n",
    "                return\n",
    "            elif action == \"attack\":\n",
    "                if \"Shiny Sword\" in personal_inventory:\n",
    "                    print(\"you kill the guard... murderer. Get out! <GAME OVER>\")\n",
    "                    exit(0)\n",
    "                you_died(\"Guard woke up with a grunt, and reached for his dagger and before you know it the world goes dark. \\n <GAME OVER>\")\n",
    "                \n",
    "                "
   ]
  },
  {
   "cell_type": "code",
   "execution_count": 23,
   "metadata": {},
   "outputs": [
    {
     "data": {
      "application/vnd.jupyter.widget-view+json": {
       "model_id": "b8ad864575db493281e0bd435134758d",
       "version_major": 2,
       "version_minor": 0
      },
      "text/plain": [
       "HTML(value='crappy sword', description='Items:', placeholder='p-h')"
      ]
     },
     "metadata": {},
     "output_type": "display_data"
    },
    {
     "ename": "TraitError",
     "evalue": "The 'children' trait of a GridBox instance contains an Instance of a TypedTuple which expected a Widget, not the str 'crappy sword'.",
     "output_type": "error",
     "traceback": [
      "\u001b[0;31m---------------------------------------------------------------------------\u001b[0m",
      "\u001b[0;31mTraitError\u001b[0m                                Traceback (most recent call last)",
      "\u001b[1;32m/Users/geary.shenck/codeup-data-science/projects-for-learning/text_based_adventure.ipynb Cell 11\u001b[0m in \u001b[0;36m<cell line: 4>\u001b[0;34m()\u001b[0m\n\u001b[1;32m      <a href='vscode-notebook-cell:/Users/geary.shenck/codeup-data-science/projects-for-learning/text_based_adventure.ipynb#X13sZmlsZQ%3D%3D?line=7'>8</a>\u001b[0m w \u001b[39m=\u001b[39m widgets\u001b[39m.\u001b[39mHTML(value \u001b[39m=\u001b[39m (personal_inventory_text),placeholder \u001b[39m=\u001b[39m \u001b[39m\"\u001b[39m\u001b[39mp-h\u001b[39m\u001b[39m\"\u001b[39m,description \u001b[39m=\u001b[39m \u001b[39m\"\u001b[39m\u001b[39mItems:\u001b[39m\u001b[39m\"\u001b[39m)\n\u001b[1;32m      <a href='vscode-notebook-cell:/Users/geary.shenck/codeup-data-science/projects-for-learning/text_based_adventure.ipynb#X13sZmlsZQ%3D%3D?line=8'>9</a>\u001b[0m display(w)\n\u001b[0;32m---> <a href='vscode-notebook-cell:/Users/geary.shenck/codeup-data-science/projects-for-learning/text_based_adventure.ipynb#X13sZmlsZQ%3D%3D?line=9'>10</a>\u001b[0m w \u001b[39m=\u001b[39m widgets\u001b[39m.\u001b[39;49mGridBox(personal_inventory,layout \u001b[39m=\u001b[39;49m widgets\u001b[39m.\u001b[39;49mLayout(grid_template_columns\u001b[39m=\u001b[39;49m\u001b[39m\"\u001b[39;49m\u001b[39mrepeat(3, 100px)\u001b[39;49m\u001b[39m\"\u001b[39;49m))\n\u001b[1;32m     <a href='vscode-notebook-cell:/Users/geary.shenck/codeup-data-science/projects-for-learning/text_based_adventure.ipynb#X13sZmlsZQ%3D%3D?line=10'>11</a>\u001b[0m display(w)\n\u001b[1;32m     <a href='vscode-notebook-cell:/Users/geary.shenck/codeup-data-science/projects-for-learning/text_based_adventure.ipynb#X13sZmlsZQ%3D%3D?line=11'>12</a>\u001b[0m main()\n",
      "File \u001b[0;32m/usr/local/anaconda3/lib/python3.9/site-packages/ipywidgets/widgets/widget_box.py:64\u001b[0m, in \u001b[0;36mBox.__init__\u001b[0;34m(self, children, **kwargs)\u001b[0m\n\u001b[1;32m     62\u001b[0m \u001b[39mdef\u001b[39;00m \u001b[39m__init__\u001b[39m(\u001b[39mself\u001b[39m, children\u001b[39m=\u001b[39m(), \u001b[39m*\u001b[39m\u001b[39m*\u001b[39mkwargs):\n\u001b[1;32m     63\u001b[0m     kwargs[\u001b[39m'\u001b[39m\u001b[39mchildren\u001b[39m\u001b[39m'\u001b[39m] \u001b[39m=\u001b[39m children\n\u001b[0;32m---> 64\u001b[0m     \u001b[39msuper\u001b[39;49m(Box, \u001b[39mself\u001b[39;49m)\u001b[39m.\u001b[39;49m\u001b[39m__init__\u001b[39;49m(\u001b[39m*\u001b[39;49m\u001b[39m*\u001b[39;49mkwargs)\n\u001b[1;32m     65\u001b[0m     \u001b[39mself\u001b[39m\u001b[39m.\u001b[39mon_displayed(Box\u001b[39m.\u001b[39m_fire_children_displayed)\n",
      "File \u001b[0;32m/usr/local/anaconda3/lib/python3.9/site-packages/ipywidgets/widgets/widget.py:412\u001b[0m, in \u001b[0;36mWidget.__init__\u001b[0;34m(self, **kwargs)\u001b[0m\n\u001b[1;32m    410\u001b[0m \u001b[39m\"\"\"Public constructor\"\"\"\u001b[39;00m\n\u001b[1;32m    411\u001b[0m \u001b[39mself\u001b[39m\u001b[39m.\u001b[39m_model_id \u001b[39m=\u001b[39m kwargs\u001b[39m.\u001b[39mpop(\u001b[39m'\u001b[39m\u001b[39mmodel_id\u001b[39m\u001b[39m'\u001b[39m, \u001b[39mNone\u001b[39;00m)\n\u001b[0;32m--> 412\u001b[0m \u001b[39msuper\u001b[39;49m(Widget, \u001b[39mself\u001b[39;49m)\u001b[39m.\u001b[39;49m\u001b[39m__init__\u001b[39;49m(\u001b[39m*\u001b[39;49m\u001b[39m*\u001b[39;49mkwargs)\n\u001b[1;32m    414\u001b[0m Widget\u001b[39m.\u001b[39m_call_widget_constructed(\u001b[39mself\u001b[39m)\n\u001b[1;32m    415\u001b[0m \u001b[39mself\u001b[39m\u001b[39m.\u001b[39mopen()\n",
      "File \u001b[0;32m/usr/local/anaconda3/lib/python3.9/site-packages/traitlets/traitlets.py:1079\u001b[0m, in \u001b[0;36mHasTraits.__init__\u001b[0;34m(self, *args, **kwargs)\u001b[0m\n\u001b[1;32m   1077\u001b[0m \u001b[39mfor\u001b[39;00m key, value \u001b[39min\u001b[39;00m kwargs\u001b[39m.\u001b[39mitems():\n\u001b[1;32m   1078\u001b[0m     \u001b[39mif\u001b[39;00m \u001b[39mself\u001b[39m\u001b[39m.\u001b[39mhas_trait(key):\n\u001b[0;32m-> 1079\u001b[0m         \u001b[39msetattr\u001b[39;49m(\u001b[39mself\u001b[39;49m, key, value)\n\u001b[1;32m   1080\u001b[0m     \u001b[39melse\u001b[39;00m:\n\u001b[1;32m   1081\u001b[0m         \u001b[39m# passthrough args that don't set traits to super\u001b[39;00m\n\u001b[1;32m   1082\u001b[0m         super_kwargs[key] \u001b[39m=\u001b[39m value\n",
      "File \u001b[0;32m/usr/local/anaconda3/lib/python3.9/site-packages/traitlets/traitlets.py:606\u001b[0m, in \u001b[0;36mTraitType.__set__\u001b[0;34m(self, obj, value)\u001b[0m\n\u001b[1;32m    604\u001b[0m     \u001b[39mraise\u001b[39;00m TraitError(\u001b[39m'\u001b[39m\u001b[39mThe \u001b[39m\u001b[39m\"\u001b[39m\u001b[39m%s\u001b[39;00m\u001b[39m\"\u001b[39m\u001b[39m trait is read-only.\u001b[39m\u001b[39m'\u001b[39m \u001b[39m%\u001b[39m \u001b[39mself\u001b[39m\u001b[39m.\u001b[39mname)\n\u001b[1;32m    605\u001b[0m \u001b[39melse\u001b[39;00m:\n\u001b[0;32m--> 606\u001b[0m     \u001b[39mself\u001b[39;49m\u001b[39m.\u001b[39;49mset(obj, value)\n",
      "File \u001b[0;32m/usr/local/anaconda3/lib/python3.9/site-packages/traitlets/traitlets.py:580\u001b[0m, in \u001b[0;36mTraitType.set\u001b[0;34m(self, obj, value)\u001b[0m\n\u001b[1;32m    579\u001b[0m \u001b[39mdef\u001b[39;00m \u001b[39mset\u001b[39m(\u001b[39mself\u001b[39m, obj, value):\n\u001b[0;32m--> 580\u001b[0m     new_value \u001b[39m=\u001b[39m \u001b[39mself\u001b[39;49m\u001b[39m.\u001b[39;49m_validate(obj, value)\n\u001b[1;32m    581\u001b[0m     \u001b[39mtry\u001b[39;00m:\n\u001b[1;32m    582\u001b[0m         old_value \u001b[39m=\u001b[39m obj\u001b[39m.\u001b[39m_trait_values[\u001b[39mself\u001b[39m\u001b[39m.\u001b[39mname]\n",
      "File \u001b[0;32m/usr/local/anaconda3/lib/python3.9/site-packages/traitlets/traitlets.py:612\u001b[0m, in \u001b[0;36mTraitType._validate\u001b[0;34m(self, obj, value)\u001b[0m\n\u001b[1;32m    610\u001b[0m     \u001b[39mreturn\u001b[39;00m value\n\u001b[1;32m    611\u001b[0m \u001b[39mif\u001b[39;00m \u001b[39mhasattr\u001b[39m(\u001b[39mself\u001b[39m, \u001b[39m'\u001b[39m\u001b[39mvalidate\u001b[39m\u001b[39m'\u001b[39m):\n\u001b[0;32m--> 612\u001b[0m     value \u001b[39m=\u001b[39m \u001b[39mself\u001b[39;49m\u001b[39m.\u001b[39;49mvalidate(obj, value)\n\u001b[1;32m    613\u001b[0m \u001b[39mif\u001b[39;00m obj\u001b[39m.\u001b[39m_cross_validation_lock \u001b[39mis\u001b[39;00m \u001b[39mFalse\u001b[39;00m:\n\u001b[1;32m    614\u001b[0m     value \u001b[39m=\u001b[39m \u001b[39mself\u001b[39m\u001b[39m.\u001b[39m_cross_validate(obj, value)\n",
      "File \u001b[0;32m/usr/local/anaconda3/lib/python3.9/site-packages/traitlets/traitlets.py:2506\u001b[0m, in \u001b[0;36mContainer.validate\u001b[0;34m(self, obj, value)\u001b[0m\n\u001b[1;32m   2503\u001b[0m \u001b[39mif\u001b[39;00m value \u001b[39mis\u001b[39;00m \u001b[39mNone\u001b[39;00m:\n\u001b[1;32m   2504\u001b[0m     \u001b[39mreturn\u001b[39;00m value\n\u001b[0;32m-> 2506\u001b[0m value \u001b[39m=\u001b[39m \u001b[39mself\u001b[39;49m\u001b[39m.\u001b[39;49mvalidate_elements(obj, value)\n\u001b[1;32m   2508\u001b[0m \u001b[39mreturn\u001b[39;00m value\n",
      "File \u001b[0;32m/usr/local/anaconda3/lib/python3.9/site-packages/traitlets/traitlets.py:2518\u001b[0m, in \u001b[0;36mContainer.validate_elements\u001b[0;34m(self, obj, value)\u001b[0m\n\u001b[1;32m   2516\u001b[0m     v \u001b[39m=\u001b[39m \u001b[39mself\u001b[39m\u001b[39m.\u001b[39m_trait\u001b[39m.\u001b[39m_validate(obj, v)\n\u001b[1;32m   2517\u001b[0m \u001b[39mexcept\u001b[39;00m TraitError \u001b[39mas\u001b[39;00m error:\n\u001b[0;32m-> 2518\u001b[0m     \u001b[39mself\u001b[39;49m\u001b[39m.\u001b[39;49merror(obj, v, error)\n\u001b[1;32m   2519\u001b[0m \u001b[39melse\u001b[39;00m:\n\u001b[1;32m   2520\u001b[0m     validated\u001b[39m.\u001b[39mappend(v)\n",
      "File \u001b[0;32m/usr/local/anaconda3/lib/python3.9/site-packages/traitlets/traitlets.py:678\u001b[0m, in \u001b[0;36mTraitType.error\u001b[0;34m(self, obj, value, error, info)\u001b[0m\n\u001b[1;32m    674\u001b[0m         \u001b[39melse\u001b[39;00m:\n\u001b[1;32m    675\u001b[0m             error\u001b[39m.\u001b[39margs \u001b[39m=\u001b[39m (\u001b[39m\"\u001b[39m\u001b[39mThe \u001b[39m\u001b[39m'\u001b[39m\u001b[39m%s\u001b[39;00m\u001b[39m'\u001b[39m\u001b[39m trait contains \u001b[39m\u001b[39m%s\u001b[39;00m\u001b[39m which \u001b[39m\u001b[39m\"\u001b[39m\n\u001b[1;32m    676\u001b[0m                 \u001b[39m\"\u001b[39m\u001b[39mexpected \u001b[39m\u001b[39m%s\u001b[39;00m\u001b[39m, not \u001b[39m\u001b[39m%s\u001b[39;00m\u001b[39m.\u001b[39m\u001b[39m\"\u001b[39m \u001b[39m%\u001b[39m (\u001b[39mself\u001b[39m\u001b[39m.\u001b[39mname, chain,\n\u001b[1;32m    677\u001b[0m                 error\u001b[39m.\u001b[39margs[\u001b[39m1\u001b[39m], describe(\u001b[39m\"\u001b[39m\u001b[39mthe\u001b[39m\u001b[39m\"\u001b[39m, error\u001b[39m.\u001b[39margs[\u001b[39m0\u001b[39m])),)\n\u001b[0;32m--> 678\u001b[0m     \u001b[39mraise\u001b[39;00m error\n\u001b[1;32m    679\u001b[0m \u001b[39melse\u001b[39;00m:\n\u001b[1;32m    680\u001b[0m     \u001b[39m# this trait caused an error\u001b[39;00m\n\u001b[1;32m    681\u001b[0m     \u001b[39mif\u001b[39;00m \u001b[39mself\u001b[39m\u001b[39m.\u001b[39mname \u001b[39mis\u001b[39;00m \u001b[39mNone\u001b[39;00m:\n\u001b[1;32m    682\u001b[0m         \u001b[39m# this is not the root trait\u001b[39;00m\n",
      "File \u001b[0;32m/usr/local/anaconda3/lib/python3.9/site-packages/traitlets/traitlets.py:2516\u001b[0m, in \u001b[0;36mContainer.validate_elements\u001b[0;34m(self, obj, value)\u001b[0m\n\u001b[1;32m   2514\u001b[0m \u001b[39mfor\u001b[39;00m v \u001b[39min\u001b[39;00m value:\n\u001b[1;32m   2515\u001b[0m     \u001b[39mtry\u001b[39;00m:\n\u001b[0;32m-> 2516\u001b[0m         v \u001b[39m=\u001b[39m \u001b[39mself\u001b[39;49m\u001b[39m.\u001b[39;49m_trait\u001b[39m.\u001b[39;49m_validate(obj, v)\n\u001b[1;32m   2517\u001b[0m     \u001b[39mexcept\u001b[39;00m TraitError \u001b[39mas\u001b[39;00m error:\n\u001b[1;32m   2518\u001b[0m         \u001b[39mself\u001b[39m\u001b[39m.\u001b[39merror(obj, v, error)\n",
      "File \u001b[0;32m/usr/local/anaconda3/lib/python3.9/site-packages/traitlets/traitlets.py:612\u001b[0m, in \u001b[0;36mTraitType._validate\u001b[0;34m(self, obj, value)\u001b[0m\n\u001b[1;32m    610\u001b[0m     \u001b[39mreturn\u001b[39;00m value\n\u001b[1;32m    611\u001b[0m \u001b[39mif\u001b[39;00m \u001b[39mhasattr\u001b[39m(\u001b[39mself\u001b[39m, \u001b[39m'\u001b[39m\u001b[39mvalidate\u001b[39m\u001b[39m'\u001b[39m):\n\u001b[0;32m--> 612\u001b[0m     value \u001b[39m=\u001b[39m \u001b[39mself\u001b[39;49m\u001b[39m.\u001b[39;49mvalidate(obj, value)\n\u001b[1;32m    613\u001b[0m \u001b[39mif\u001b[39;00m obj\u001b[39m.\u001b[39m_cross_validation_lock \u001b[39mis\u001b[39;00m \u001b[39mFalse\u001b[39;00m:\n\u001b[1;32m    614\u001b[0m     value \u001b[39m=\u001b[39m \u001b[39mself\u001b[39m\u001b[39m.\u001b[39m_cross_validate(obj, value)\n",
      "File \u001b[0;32m/usr/local/anaconda3/lib/python3.9/site-packages/traitlets/traitlets.py:1851\u001b[0m, in \u001b[0;36mInstance.validate\u001b[0;34m(self, obj, value)\u001b[0m\n\u001b[1;32m   1849\u001b[0m     \u001b[39mreturn\u001b[39;00m value\n\u001b[1;32m   1850\u001b[0m \u001b[39melse\u001b[39;00m:\n\u001b[0;32m-> 1851\u001b[0m     \u001b[39mself\u001b[39;49m\u001b[39m.\u001b[39;49merror(obj, value)\n",
      "File \u001b[0;32m/usr/local/anaconda3/lib/python3.9/site-packages/traitlets/traitlets.py:683\u001b[0m, in \u001b[0;36mTraitType.error\u001b[0;34m(self, obj, value, error, info)\u001b[0m\n\u001b[1;32m    679\u001b[0m \u001b[39melse\u001b[39;00m:\n\u001b[1;32m    680\u001b[0m     \u001b[39m# this trait caused an error\u001b[39;00m\n\u001b[1;32m    681\u001b[0m     \u001b[39mif\u001b[39;00m \u001b[39mself\u001b[39m\u001b[39m.\u001b[39mname \u001b[39mis\u001b[39;00m \u001b[39mNone\u001b[39;00m:\n\u001b[1;32m    682\u001b[0m         \u001b[39m# this is not the root trait\u001b[39;00m\n\u001b[0;32m--> 683\u001b[0m         \u001b[39mraise\u001b[39;00m TraitError(value, info \u001b[39mor\u001b[39;00m \u001b[39mself\u001b[39m\u001b[39m.\u001b[39minfo(), \u001b[39mself\u001b[39m)\n\u001b[1;32m    684\u001b[0m     \u001b[39melse\u001b[39;00m:\n\u001b[1;32m    685\u001b[0m         \u001b[39m# this is the root trait\u001b[39;00m\n\u001b[1;32m    686\u001b[0m         \u001b[39mif\u001b[39;00m obj \u001b[39mis\u001b[39;00m \u001b[39mnot\u001b[39;00m \u001b[39mNone\u001b[39;00m:\n",
      "\u001b[0;31mTraitError\u001b[0m: The 'children' trait of a GridBox instance contains an Instance of a TypedTuple which expected a Widget, not the str 'crappy sword'."
     ]
    }
   ],
   "source": [
    "from ipywidgets import widgets\n",
    "\n",
    "\n",
    "if __name__ == \"__main__\":\n",
    "    personal_inventory = [\"crappy sword\"]\n",
    "    personal_inventory_text = \"\"\n",
    "    personal_inventory_text= \", \".join(personal_inventory)\n",
    "    w = widgets.HTML(value = (personal_inventory_text),placeholder = \"p-h\",description = \"Items:\")\n",
    "    display(w)\n",
    "    main()"
   ]
  },
  {
   "cell_type": "code",
   "execution_count": null,
   "metadata": {},
   "outputs": [],
   "source": []
  },
  {
   "cell_type": "code",
   "execution_count": null,
   "metadata": {},
   "outputs": [],
   "source": []
  },
  {
   "cell_type": "code",
   "execution_count": null,
   "metadata": {},
   "outputs": [],
   "source": []
  }
 ],
 "metadata": {
  "kernelspec": {
   "display_name": "Python 3.9.12 ('base')",
   "language": "python",
   "name": "python3"
  },
  "language_info": {
   "codemirror_mode": {
    "name": "ipython",
    "version": 3
   },
   "file_extension": ".py",
   "mimetype": "text/x-python",
   "name": "python",
   "nbconvert_exporter": "python",
   "pygments_lexer": "ipython3",
   "version": "3.9.13"
  },
  "orig_nbformat": 4,
  "vscode": {
   "interpreter": {
    "hash": "3067ead486e059ec00ffe7555bdb889e6e264a24dc711bf108106cc7baee8d5d"
   }
  }
 },
 "nbformat": 4,
 "nbformat_minor": 2
}
